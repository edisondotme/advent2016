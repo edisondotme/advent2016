{
 "cells": [
  {
   "cell_type": "code",
   "execution_count": 2,
   "metadata": {
    "collapsed": false
   },
   "outputs": [],
   "source": [
    "import hashlib"
   ]
  },
  {
   "cell_type": "code",
   "execution_count": 33,
   "metadata": {
    "collapsed": true
   },
   "outputs": [],
   "source": [
    "def getHash(inputString):\n",
    "    return(hashlib.md5(inputString.encode()).hexdigest())"
   ]
  },
  {
   "cell_type": "code",
   "execution_count": 47,
   "metadata": {
    "collapsed": false
   },
   "outputs": [
    {
     "data": {
      "text/plain": [
       "'00000'"
      ]
     },
     "execution_count": 47,
     "metadata": {},
     "output_type": "execute_result"
    }
   ],
   "source": [
    "getHash('abc5017308')[0:5]"
   ]
  },
  {
   "cell_type": "code",
   "execution_count": 49,
   "metadata": {
    "collapsed": false
   },
   "outputs": [
    {
     "data": {
      "text/plain": [
       "5"
      ]
     },
     "execution_count": 49,
     "metadata": {},
     "output_type": "execute_result"
    }
   ],
   "source": [
    "len(['a', 'b', 'c', 'd', 'e'])"
   ]
  },
  {
   "cell_type": "code",
   "execution_count": 58,
   "metadata": {
    "collapsed": true
   },
   "outputs": [],
   "source": [
    "def getPass(doorID):\n",
    "    password = []\n",
    "    for x in range(400000000):\n",
    "        curHash = getHash(doorID + str(x))\n",
    "        if curHash[0:5] == '00000':\n",
    "            password.append(curHash[5])\n",
    "        if len(password) == 8:\n",
    "            return(''.join(password))\n",
    "    return(password)"
   ]
  },
  {
   "cell_type": "code",
   "execution_count": 61,
   "metadata": {
    "collapsed": false
   },
   "outputs": [],
   "source": [
    "#getPass('wtnhxymk') # password was 2414bc77"
   ]
  },
  {
   "cell_type": "code",
   "execution_count": 70,
   "metadata": {
    "collapsed": false
   },
   "outputs": [
    {
     "data": {
      "text/plain": [
       "False"
      ]
     },
     "execution_count": 70,
     "metadata": {},
     "output_type": "execute_result"
    }
   ],
   "source": [
    "is_number('t')"
   ]
  },
  {
   "cell_type": "code",
   "execution_count": 86,
   "metadata": {
    "collapsed": false
   },
   "outputs": [
    {
     "data": {
      "text/plain": [
       "True"
      ]
     },
     "execution_count": 86,
     "metadata": {},
     "output_type": "execute_result"
    }
   ],
   "source": [
    " 8 <= 8"
   ]
  },
  {
   "cell_type": "code",
   "execution_count": 68,
   "metadata": {
    "collapsed": true
   },
   "outputs": [],
   "source": [
    "def is_number(s):\n",
    "    try:\n",
    "        float(s)\n",
    "        return True\n",
    "    except ValueError:\n",
    "        return False"
   ]
  },
  {
   "cell_type": "code",
   "execution_count": 96,
   "metadata": {
    "collapsed": false
   },
   "outputs": [],
   "source": [
    "def crackPass(doorID):\n",
    "    \"\"\"\n",
    "    Takes string door ID and cracks the password\n",
    "    \"\"\"\n",
    "    \n",
    "    password = [None]*8\n",
    "    positions = []\n",
    "    \n",
    "    for x in range(100000000):\n",
    "        curHash = getHash(doorID + str(x))\n",
    "        positionChar = curHash[5]\n",
    "        if (curHash[0:5] == '00000') & is_number(positionChar): # if starts withzeros and the positional argument is a number\n",
    "            if not (int(positionChar) <= 7): # check if the position is less or equal to the max password length\n",
    "                continue\n",
    "            if int(positionChar) in positions: # if we've already solved this position, skip this one\n",
    "                continue\n",
    "            positions.append(int(positionChar)) # this is a new position, record that we found this position\n",
    "            \n",
    "            password[int(positionChar)] = curHash[6]\n",
    "            \n",
    "            if None in password:\n",
    "                pass\n",
    "            else:\n",
    "                return(''.join(password))\n",
    "            \n",
    "    return(\"couldn't find password\")\n",
    "            "
   ]
  },
  {
   "cell_type": "code",
   "execution_count": 97,
   "metadata": {
    "collapsed": false
   },
   "outputs": [
    {
     "name": "stdout",
     "output_type": "stream",
     "text": [
      "[None, None, None, None, None, None, None, None]\n",
      "[None, None, None, None, None, None, None, 1]\n"
     ]
    }
   ],
   "source": [
    "password = [None]*8\n",
    "print(password)\n",
    "password[7] = 1\n",
    "print(password)"
   ]
  },
  {
   "cell_type": "code",
   "execution_count": 99,
   "metadata": {
    "collapsed": false
   },
   "outputs": [
    {
     "data": {
      "text/plain": [
       "'437e60fc'"
      ]
     },
     "execution_count": 99,
     "metadata": {},
     "output_type": "execute_result"
    }
   ],
   "source": [
    "crackPass('wtnhxymk')"
   ]
  }
 ],
 "metadata": {
  "anaconda-cloud": {},
  "kernelspec": {
   "display_name": "Python [default]",
   "language": "python",
   "name": "python3"
  },
  "language_info": {
   "codemirror_mode": {
    "name": "ipython",
    "version": 3
   },
   "file_extension": ".py",
   "mimetype": "text/x-python",
   "name": "python",
   "nbconvert_exporter": "python",
   "pygments_lexer": "ipython3",
   "version": "3.5.2"
  }
 },
 "nbformat": 4,
 "nbformat_minor": 1
}
