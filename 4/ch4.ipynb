{
 "cells": [
  {
   "cell_type": "code",
   "execution_count": 225,
   "metadata": {
    "collapsed": false
   },
   "outputs": [
    {
     "name": "stderr",
     "output_type": "stream",
     "text": [
      "C:\\Users\\me\\Anaconda3\\lib\\site-packages\\ipykernel\\__main__.py:10: FutureWarning: currently extract(expand=None) means expand=False (return Index/Series/DataFrame) but in a future version of pandas this will be changed to expand=True (return DataFrame)\n",
      "C:\\Users\\me\\Anaconda3\\lib\\site-packages\\ipykernel\\__main__.py:12: FutureWarning: currently extract(expand=None) means expand=False (return Index/Series/DataFrame) but in a future version of pandas this will be changed to expand=True (return DataFrame)\n"
     ]
    },
    {
     "data": {
      "text/html": [
       "<div>\n",
       "<table border=\"1\" class=\"dataframe\">\n",
       "  <thead>\n",
       "    <tr style=\"text-align: right;\">\n",
       "      <th></th>\n",
       "      <th>text</th>\n",
       "      <th>sectorID</th>\n",
       "      <th>commonLetter</th>\n",
       "    </tr>\n",
       "  </thead>\n",
       "  <tbody>\n",
       "    <tr>\n",
       "      <th>0</th>\n",
       "      <td>gbc-frperg-pubpbyngr-znantrzrag-377[rgbnp]</td>\n",
       "      <td>377</td>\n",
       "      <td>rgbnp</td>\n",
       "    </tr>\n",
       "    <tr>\n",
       "      <th>1</th>\n",
       "      <td>nij-mywlyn-wlsiayhcw-jfumncw-alumm-mbcjjcha-42...</td>\n",
       "      <td>422</td>\n",
       "      <td>mcjwa</td>\n",
       "    </tr>\n",
       "    <tr>\n",
       "      <th>2</th>\n",
       "      <td>pualyuhapvuhs-ibuuf-zhslz-227[uhalp]</td>\n",
       "      <td>227</td>\n",
       "      <td>uhalp</td>\n",
       "    </tr>\n",
       "    <tr>\n",
       "      <th>3</th>\n",
       "      <td>xlrypetn-prr-lylwjdtd-665[dzoya]</td>\n",
       "      <td>665</td>\n",
       "      <td>dzoya</td>\n",
       "    </tr>\n",
       "    <tr>\n",
       "      <th>4</th>\n",
       "      <td>zilqwikbqdm-rmttgjmiv-mvoqvmmzqvo-278[mqvio]</td>\n",
       "      <td>278</td>\n",
       "      <td>mqvio</td>\n",
       "    </tr>\n",
       "  </tbody>\n",
       "</table>\n",
       "</div>"
      ],
      "text/plain": [
       "                                                text sectorID commonLetter\n",
       "0         gbc-frperg-pubpbyngr-znantrzrag-377[rgbnp]      377        rgbnp\n",
       "1  nij-mywlyn-wlsiayhcw-jfumncw-alumm-mbcjjcha-42...      422        mcjwa\n",
       "2               pualyuhapvuhs-ibuuf-zhslz-227[uhalp]      227        uhalp\n",
       "3                   xlrypetn-prr-lylwjdtd-665[dzoya]      665        dzoya\n",
       "4       zilqwikbqdm-rmttgjmiv-mvoqvmmzqvo-278[mqvio]      278        mqvio"
      ]
     },
     "execution_count": 225,
     "metadata": {},
     "output_type": "execute_result"
    }
   ],
   "source": [
    "import numpy as np\n",
    "import pandas as pd\n",
    "import re\n",
    "import string\n",
    "\n",
    "f = open('input.txt', 'r')\n",
    "\n",
    "n = pd.DataFrame(f.read().strip().split('\\n'), columns = ['text'])\n",
    "\n",
    "sector_IDs = n.ix[:, 0].str.extract('(\\d{3})')\n",
    "sector_IDs = pd.Series(sector_IDs, name = 'sectorID')\n",
    "topLetters = n.ix[:, 0].str.extract('\\[(.*?)\\]')\n",
    "topLetters = pd.Series(topLetters, name = 'commonLetter')\n",
    "roomText = \"\"\n",
    "\n",
    "#n.add(sector_IDs)\n",
    "n = pd.concat([n, sector_IDs, topLetters], axis = 1)\n",
    "n.head()"
   ]
  },
  {
   "cell_type": "code",
   "execution_count": 226,
   "metadata": {
    "collapsed": false
   },
   "outputs": [
    {
     "data": {
      "text/html": [
       "<div>\n",
       "<table border=\"1\" class=\"dataframe\">\n",
       "  <thead>\n",
       "    <tr style=\"text-align: right;\">\n",
       "      <th></th>\n",
       "      <th>text</th>\n",
       "      <th>sectorID</th>\n",
       "      <th>commonLetter</th>\n",
       "    </tr>\n",
       "  </thead>\n",
       "  <tbody>\n",
       "    <tr>\n",
       "      <th>0</th>\n",
       "      <td>gbc-frperg-pubpbyngr-znantrzrag-377[rgbnp]</td>\n",
       "      <td>377</td>\n",
       "      <td>rgbnp</td>\n",
       "    </tr>\n",
       "    <tr>\n",
       "      <th>1</th>\n",
       "      <td>nij-mywlyn-wlsiayhcw-jfumncw-alumm-mbcjjcha-42...</td>\n",
       "      <td>422</td>\n",
       "      <td>mcjwa</td>\n",
       "    </tr>\n",
       "  </tbody>\n",
       "</table>\n",
       "</div>"
      ],
      "text/plain": [
       "                                                text sectorID commonLetter\n",
       "0         gbc-frperg-pubpbyngr-znantrzrag-377[rgbnp]      377        rgbnp\n",
       "1  nij-mywlyn-wlsiayhcw-jfumncw-alumm-mbcjjcha-42...      422        mcjwa"
      ]
     },
     "execution_count": 226,
     "metadata": {},
     "output_type": "execute_result"
    }
   ],
   "source": [
    "n[:2]"
   ]
  },
  {
   "cell_type": "code",
   "execution_count": 227,
   "metadata": {
    "collapsed": false
   },
   "outputs": [
    {
     "data": {
      "text/plain": [
       "601376"
      ]
     },
     "execution_count": 227,
     "metadata": {},
     "output_type": "execute_result"
    }
   ],
   "source": [
    "sector_IDs.apply(int).sum() # Well, this is the sum of all the rooms.\n",
    "# I need to check which ones are real first. Goddammit that's a lot of work\n"
   ]
  },
  {
   "cell_type": "code",
   "execution_count": 228,
   "metadata": {
    "collapsed": false
   },
   "outputs": [
    {
     "data": {
      "text/html": [
       "<div>\n",
       "<table border=\"1\" class=\"dataframe\">\n",
       "  <thead>\n",
       "    <tr style=\"text-align: right;\">\n",
       "      <th></th>\n",
       "      <th>text</th>\n",
       "      <th>sectorID</th>\n",
       "      <th>commonLetter</th>\n",
       "      <th>isReal</th>\n",
       "    </tr>\n",
       "  </thead>\n",
       "  <tbody>\n",
       "    <tr>\n",
       "      <th>0</th>\n",
       "      <td>gbc-frperg-pubpbyngr-znantrzrag-377[rgbnp]</td>\n",
       "      <td>377</td>\n",
       "      <td>rgbnp</td>\n",
       "      <td>True</td>\n",
       "    </tr>\n",
       "    <tr>\n",
       "      <th>1</th>\n",
       "      <td>nij-mywlyn-wlsiayhcw-jfumncw-alumm-mbcjjcha-42...</td>\n",
       "      <td>422</td>\n",
       "      <td>mcjwa</td>\n",
       "      <td>True</td>\n",
       "    </tr>\n",
       "    <tr>\n",
       "      <th>2</th>\n",
       "      <td>pualyuhapvuhs-ibuuf-zhslz-227[uhalp]</td>\n",
       "      <td>227</td>\n",
       "      <td>uhalp</td>\n",
       "      <td>True</td>\n",
       "    </tr>\n",
       "    <tr>\n",
       "      <th>3</th>\n",
       "      <td>xlrypetn-prr-lylwjdtd-665[dzoya]</td>\n",
       "      <td>665</td>\n",
       "      <td>dzoya</td>\n",
       "      <td>False</td>\n",
       "    </tr>\n",
       "    <tr>\n",
       "      <th>4</th>\n",
       "      <td>zilqwikbqdm-rmttgjmiv-mvoqvmmzqvo-278[mqvio]</td>\n",
       "      <td>278</td>\n",
       "      <td>mqvio</td>\n",
       "      <td>True</td>\n",
       "    </tr>\n",
       "  </tbody>\n",
       "</table>\n",
       "</div>"
      ],
      "text/plain": [
       "                                                text sectorID commonLetter  \\\n",
       "0         gbc-frperg-pubpbyngr-znantrzrag-377[rgbnp]      377        rgbnp   \n",
       "1  nij-mywlyn-wlsiayhcw-jfumncw-alumm-mbcjjcha-42...      422        mcjwa   \n",
       "2               pualyuhapvuhs-ibuuf-zhslz-227[uhalp]      227        uhalp   \n",
       "3                   xlrypetn-prr-lylwjdtd-665[dzoya]      665        dzoya   \n",
       "4       zilqwikbqdm-rmttgjmiv-mvoqvmmzqvo-278[mqvio]      278        mqvio   \n",
       "\n",
       "  isReal  \n",
       "0   True  \n",
       "1   True  \n",
       "2   True  \n",
       "3  False  \n",
       "4   True  "
      ]
     },
     "execution_count": 228,
     "metadata": {},
     "output_type": "execute_result"
    }
   ],
   "source": [
    "n['isReal'] = n.apply(lambda x: checkReal(x['text'], x['commonLetter']), axis = 1)\n",
    "n.head()"
   ]
  },
  {
   "cell_type": "code",
   "execution_count": 236,
   "metadata": {
    "collapsed": false
   },
   "outputs": [
    {
     "data": {
      "text/plain": [
       "409147"
      ]
     },
     "execution_count": 236,
     "metadata": {},
     "output_type": "execute_result"
    }
   ],
   "source": [
    "n[n['isReal'] == True]['sectorID'].apply(int).sum() # nice use of subsetting and other methods here, Edison, good job"
   ]
  },
  {
   "cell_type": "code",
   "execution_count": 161,
   "metadata": {
    "collapsed": true
   },
   "outputs": [],
   "source": [
    "def checkReal(inputString, topLetters):\n",
    "    \"\"\" Checks if the input is a real room\\\n",
    "    Returns True if real, False if not real\"\"\"\n",
    "    \n",
    "    # sanitize input string\n",
    "    inputString = inputString.lower()\n",
    "    letterCount = [inputString.count(letter) for letter in string.ascii_lowercase]\n",
    "    # make a dictionary\n",
    "    letterCount = dict(zip(string.ascii_lowercase, letterCount))\n",
    "    \n",
    "    # sort by frequency, then by alphabetical\n",
    "    letterCount = sorted(letterCount.items(), key = lambda x: (-x[1], x[0]), reverse = False)[:5]\n",
    "    \n",
    "    commonLetters = [item[0] for item in letterCount]\n",
    "    \n",
    "    return commonLetters == list(topLetters)"
   ]
  },
  {
   "cell_type": "code",
   "execution_count": 387,
   "metadata": {
    "collapsed": false
   },
   "outputs": [],
   "source": [
    "def rotateLetters(inputString, number):\n",
    "    \"\"\"\n",
    "    Rotates input string through alphabet the specified number of times\n",
    "    \n",
    "    input string: a string\n",
    "    number: int number of times to rotate\n",
    "    \n",
    "    returns: string\n",
    "    \"\"\"\n",
    "    letterNum = [ord(letter)-96 for letter in inputString]\n",
    "    letterNum = [None if x == -51 else x for x in letterNum]\n",
    "    letterNum = [x for x in letterNum if x != None]\n",
    "    \n",
    "    shifted = [chr((x + number)%26 + 96) for x in letterNum]\n",
    "\n",
    "    shifted = ''.join(shifted)\n",
    "    \n",
    "    remove = chr(45 + number) # 45 is '-'\n",
    "    \n",
    "    return shifted.replace('`', 'z')\n",
    "    "
   ]
  },
  {
   "cell_type": "code",
   "execution_count": 389,
   "metadata": {
    "collapsed": false
   },
   "outputs": [
    {
     "data": {
      "text/plain": [
       "'veryencryptedname'"
      ]
     },
     "execution_count": 389,
     "metadata": {},
     "output_type": "execute_result"
    }
   ],
   "source": [
    "rotateLetters(\"qzmt-zixmtkozy-ivhz\", 343)"
   ]
  },
  {
   "cell_type": "code",
   "execution_count": 392,
   "metadata": {
    "collapsed": false
   },
   "outputs": [
    {
     "data": {
      "text/plain": [
       "0           gbc-frperg-pubpbyngr-znantrzrag-377[rgbnp]\n",
       "1    nij-mywlyn-wlsiayhcw-jfumncw-alumm-mbcjjcha-42...\n",
       "2                 pualyuhapvuhs-ibuuf-zhslz-227[uhalp]\n",
       "4         zilqwikbqdm-rmttgjmiv-mvoqvmmzqvo-278[mqvio]\n",
       "5          rgllk-bxmefuo-sdmee-geqd-fqefuzs-274[efdgl]\n",
       "Name: text, dtype: object"
      ]
     },
     "execution_count": 392,
     "metadata": {},
     "output_type": "execute_result"
    }
   ],
   "source": [
    "n[n['isReal'] == True]['text'].head()"
   ]
  },
  {
   "cell_type": "code",
   "execution_count": 401,
   "metadata": {
    "collapsed": false
   },
   "outputs": [
    {
     "data": {
      "text/html": [
       "<div>\n",
       "<table border=\"1\" class=\"dataframe\">\n",
       "  <thead>\n",
       "    <tr style=\"text-align: right;\">\n",
       "      <th></th>\n",
       "      <th>text</th>\n",
       "      <th>sectorID</th>\n",
       "      <th>commonLetter</th>\n",
       "      <th>isReal</th>\n",
       "      <th>translated</th>\n",
       "    </tr>\n",
       "  </thead>\n",
       "  <tbody>\n",
       "    <tr>\n",
       "      <th>810</th>\n",
       "      <td>kloqemlib-lygbzq-pqloxdb-991[lbqod]</td>\n",
       "      <td>991</td>\n",
       "      <td>lbqod</td>\n",
       "      <td>True</td>\n",
       "      <td>northpoleobjectstoragepphxoetrgz</td>\n",
       "    </tr>\n",
       "  </tbody>\n",
       "</table>\n",
       "</div>"
      ],
      "text/plain": [
       "                                    text sectorID commonLetter isReal  \\\n",
       "810  kloqemlib-lygbzq-pqloxdb-991[lbqod]      991        lbqod   True   \n",
       "\n",
       "                           translated  \n",
       "810  northpoleobjectstoragepphxoetrgz  "
      ]
     },
     "execution_count": 401,
     "metadata": {},
     "output_type": "execute_result"
    }
   ],
   "source": [
    "n['translated'] = n.apply(lambda x: rotateLetters(x['text'], int(x['sectorID'])), axis = 1)\n",
    "n[n['translated'].str.contains(\"northpole\")] # do a lookup"
   ]
  }
 ],
 "metadata": {
  "anaconda-cloud": {},
  "kernelspec": {
   "display_name": "Python [default]",
   "language": "python",
   "name": "python3"
  },
  "language_info": {
   "codemirror_mode": {
    "name": "ipython",
    "version": 3
   },
   "file_extension": ".py",
   "mimetype": "text/x-python",
   "name": "python",
   "nbconvert_exporter": "python",
   "pygments_lexer": "ipython3",
   "version": "3.5.2"
  }
 },
 "nbformat": 4,
 "nbformat_minor": 1
}
