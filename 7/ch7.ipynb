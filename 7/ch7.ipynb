{
 "cells": [
  {
   "cell_type": "code",
   "execution_count": 222,
   "metadata": {
    "collapsed": false
   },
   "outputs": [
    {
     "data": {
      "text/html": [
       "<div>\n",
       "<table border=\"1\" class=\"dataframe\">\n",
       "  <thead>\n",
       "    <tr style=\"text-align: right;\">\n",
       "      <th></th>\n",
       "      <th>ip</th>\n",
       "    </tr>\n",
       "  </thead>\n",
       "  <tbody>\n",
       "    <tr>\n",
       "      <th>0</th>\n",
       "      <td>dnwtsgywerfamfv[gwrhdujbiowtcirq]bjbhmuxdcasen...</td>\n",
       "    </tr>\n",
       "    <tr>\n",
       "      <th>1</th>\n",
       "      <td>rnqfzoisbqxbdlkgfh[lwlybvcsiupwnsyiljz]kmbgyap...</td>\n",
       "    </tr>\n",
       "    <tr>\n",
       "      <th>2</th>\n",
       "      <td>jgltdnjfjsbrffzwbv[nclpjchuobdjfrpavcq]sbzanvb...</td>\n",
       "    </tr>\n",
       "  </tbody>\n",
       "</table>\n",
       "</div>"
      ],
      "text/plain": [
       "                                                  ip\n",
       "0  dnwtsgywerfamfv[gwrhdujbiowtcirq]bjbhmuxdcasen...\n",
       "1  rnqfzoisbqxbdlkgfh[lwlybvcsiupwnsyiljz]kmbgyap...\n",
       "2  jgltdnjfjsbrffzwbv[nclpjchuobdjfrpavcq]sbzanvb..."
      ]
     },
     "execution_count": 222,
     "metadata": {},
     "output_type": "execute_result"
    }
   ],
   "source": [
    "import pandas as pd\n",
    "import re\n",
    "\n",
    "pairs = ['ab', 'bc', 'cd', 'de', 'ef', 'fg', 'gh', 'hi', 'jk', 'kl', 'lo', 'op', 'pq', 'qr', \\\n",
    "         'rs', 'st', 'tu', 'uv', 'vw', 'wx', 'xy', 'yz']\n",
    "\n",
    "df = pd.read_csv('input.txt', header = None, names = ['ip'])\n",
    "df.head(3)"
   ]
  },
  {
   "cell_type": "code",
   "execution_count": 223,
   "metadata": {
    "collapsed": true
   },
   "outputs": [],
   "source": [
    "def detectABBA(inputString):\n",
    "    # detect abba\n",
    "    # error is with this function. Must match any mirrored two character sequence, not \n",
    "    # just consecutive alphabetically. i need to pay more attention to the assumptions\n",
    "    # I make\n",
    "    \n",
    "    # fixed:\n",
    "    return(newABBA(inputString))\n",
    "\n",
    "    # this other code shouldn't get executed\n",
    "    \n",
    "    if len(''.join(set(inputString))) > 1: # make sure that there is more than one unique character\n",
    "        for pair in pairs:\n",
    "            if pair in inputString:\n",
    "                if pair + pair[::-1] in inputString:\n",
    "                    return(True)\n",
    "                else:\n",
    "                    return(False)\n",
    "    return(False) # when in doubt, return false"
   ]
  },
  {
   "cell_type": "code",
   "execution_count": 249,
   "metadata": {
    "collapsed": true
   },
   "outputs": [],
   "source": [
    "def splitText(inputRow):\n",
    "    # input row is a string\n",
    "    inputRow = str(inputRow)\n",
    "    a = inputRow.split('[')\n",
    "    l = []\n",
    "    for word in a:\n",
    "        l.extend(word.split(']'))\n",
    "        \n",
    "    l = list(filter(lambda x: x!= '', l))\n",
    "    \n",
    "    if inputRow[0] == '[':\n",
    "        b = l[::2]\n",
    "        w = l[1::2]\n",
    "    else:\n",
    "        w = l[::2]\n",
    "        b = l[1::2]\n",
    "        \n",
    "    w = list(map(bugfix, w))\n",
    "    b = list(map(bugfix, b))\n",
    "    \n",
    "    return(w,b)"
   ]
  },
  {
   "cell_type": "code",
   "execution_count": 250,
   "metadata": {
    "collapsed": false
   },
   "outputs": [],
   "source": [
    "r = splitText('rnqfzoisbqxbdlkgfh[lwlybvcsiupwlmmlnsyiljz]kmbgyaptjcsvwcltrdx[ntloolrpwgkrfeljpye]jxjdlgtntpljxaojufe')"
   ]
  },
  {
   "cell_type": "code",
   "execution_count": 251,
   "metadata": {
    "collapsed": false
   },
   "outputs": [],
   "source": [
    "def bugfix(string):\n",
    "    # this is a bugfix for if the double letter is at the beginning of the ipaddress\n",
    "    # pad the ip with a character that shouldn't appear\n",
    "    \n",
    "    string = '1' + string + '4'\n",
    "    \n",
    "    return(string)"
   ]
  },
  {
   "cell_type": "code",
   "execution_count": 252,
   "metadata": {
    "collapsed": false
   },
   "outputs": [],
   "source": [
    "def checkTLS(ipAddress):\n",
    "\n",
    "    \n",
    "    words, brackets = splitText(ipAddress)\n",
    "    #print(words, brackets, '\\n')\n",
    "    \n",
    "    if any(map(detectABBA, brackets)):\n",
    "        #print('flag1')\n",
    "        return(False)\n",
    "    else:\n",
    "        if(any(map(detectABBA, words))):\n",
    "            #print('flag3')\n",
    "            return(True)\n",
    "        else:\n",
    "            #print('flag2')\n",
    "            return(False)\n",
    "    return('error, this should not get called')"
   ]
  },
  {
   "cell_type": "code",
   "execution_count": 254,
   "metadata": {
    "collapsed": false
   },
   "outputs": [
    {
     "data": {
      "text/plain": [
       "False    1895\n",
       "True      105\n",
       "Name: isTLS, dtype: int64"
      ]
     },
     "execution_count": 254,
     "metadata": {},
     "output_type": "execute_result"
    }
   ],
   "source": [
    "df['isTLS'] = df['ip'].apply(checkTLS)\n",
    "df['isTLS'].value_counts() # 266 and 208 are both wrong # correct answer was 105. I'm not proud of the patch"
   ]
  },
  {
   "cell_type": "code",
   "execution_count": 228,
   "metadata": {
    "collapsed": false
   },
   "outputs": [],
   "source": [
    "def newABBA(text):\n",
    "    # detect ANY repeated mirrored two letter sequence\n",
    "    # note: detect any repeated two letters, then check to see if the letters before and after are the same\n",
    "    # it must also no be equal to the repeated letter\n",
    "    \n",
    "    reps = ['aa', 'bb', 'cc', 'dd', 'ee', 'ff', 'gg', 'hh', 'ii', 'jj', 'kk',\\\n",
    "           'll', 'mm', 'nn', 'oo', 'pp', 'qq', 'rr', 'ss', 'tt', 'uu', 'vv', 'ww', 'xx', 'yy', 'zz']\n",
    "    \n",
    "    for rep in reps:\n",
    "        #print(rep)\n",
    "        if rep in text:\n",
    "            # more checking\n",
    "            loc = text.index(rep)\n",
    "            sub = text[loc-1:loc+3]\n",
    "            #print(sub)\n",
    "            if (sub == sub[::-1]) and (len(''.join(set(text))) > 1): # check mirroring and make sure not all the same letter\n",
    "                return(True)\n",
    "    return(False)"
   ]
  },
  {
   "cell_type": "code",
   "execution_count": 247,
   "metadata": {
    "collapsed": false
   },
   "outputs": [
    {
     "data": {
      "text/plain": [
       "['1apple4', '1kilo4', '1lima4']"
      ]
     },
     "execution_count": 247,
     "metadata": {},
     "output_type": "execute_result"
    }
   ],
   "source": [
    "words = ['apple', 'kilo', 'lima']\n",
    "\n",
    "list(map(bugfix, words))"
   ]
  }
 ],
 "metadata": {
  "anaconda-cloud": {},
  "kernelspec": {
   "display_name": "Python [default]",
   "language": "python",
   "name": "python3"
  },
  "language_info": {
   "codemirror_mode": {
    "name": "ipython",
    "version": 3
   },
   "file_extension": ".py",
   "mimetype": "text/x-python",
   "name": "python",
   "nbconvert_exporter": "python",
   "pygments_lexer": "ipython3",
   "version": "3.5.2"
  }
 },
 "nbformat": 4,
 "nbformat_minor": 1
}
